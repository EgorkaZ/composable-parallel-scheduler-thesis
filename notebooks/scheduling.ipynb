{
 "cells": [
  {
   "cell_type": "code",
   "execution_count": 5,
   "metadata": {},
   "outputs": [],
   "source": [
    "import numpy as np\n",
    "import json\n",
    "import pandas as pd\n",
    "import matplotlib.pyplot as plt"
   ]
  },
  {
   "cell_type": "code",
   "execution_count": 12,
   "metadata": {},
   "outputs": [],
   "source": [
    "PREFIX = \"../raw_results/scheduling_dist/scheduling_dist\"\n",
    "MODE = \"EIGEN_SIMPLE_SPIN\""
   ]
  },
  {
   "cell_type": "code",
   "execution_count": 13,
   "metadata": {},
   "outputs": [],
   "source": [
    "with open(f\"{PREFIX}_{MODE}.json\") as input:\n",
    "    data = json.load(input)"
   ]
  },
  {
   "cell_type": "code",
   "execution_count": 17,
   "metadata": {},
   "outputs": [],
   "source": [
    "results = data['results']\n",
    "iter = results[-1]"
   ]
  },
  {
   "cell_type": "code",
   "execution_count": 25,
   "metadata": {},
   "outputs": [
    {
     "data": {
      "text/plain": [
       "{'start': 15917185161194,\n",
       " 'end': 15920947896172,\n",
       " 'tasks': {'15': [{'index': 15,\n",
       "    'trace': {'prev_trace': 15917183465940,\n",
       "     'execution_start': 15917185175242,\n",
       "     'execution_end': 15920946304020},\n",
       "    'cpu': 30}],\n",
       "  '14': [{'index': 14,\n",
       "    'trace': {'prev_trace': 15917183580212,\n",
       "     'execution_start': 15917185173942,\n",
       "     'execution_end': 15920946283618},\n",
       "    'cpu': 28}],\n",
       "  '13': [{'index': 13,\n",
       "    'trace': {'prev_trace': 15917183589878,\n",
       "     'execution_start': 15917185175218,\n",
       "     'execution_end': 15920946224740},\n",
       "    'cpu': 26}],\n",
       "  '0': [{'index': 0,\n",
       "    'trace': {'prev_trace': 15917184851300,\n",
       "     'execution_start': 15917185168192,\n",
       "     'execution_end': 15920947889506},\n",
       "    'cpu': 0}],\n",
       "  '1': [{'index': 1,\n",
       "    'trace': {'prev_trace': 15917185144828,\n",
       "     'execution_start': 15917185170868,\n",
       "     'execution_end': 15920946244854},\n",
       "    'cpu': 2}],\n",
       "  '2': [{'index': 2,\n",
       "    'trace': {'prev_trace': 15917183604882,\n",
       "     'execution_start': 15917185173528,\n",
       "     'execution_end': 15920946263754},\n",
       "    'cpu': 4}],\n",
       "  '3': [{'index': 3,\n",
       "    'trace': {'prev_trace': 15917183555384,\n",
       "     'execution_start': 15917185173606,\n",
       "     'execution_end': 15920946268152},\n",
       "    'cpu': 6}],\n",
       "  '4': [{'index': 4,\n",
       "    'trace': {'prev_trace': 15917183497226,\n",
       "     'execution_start': 15917185173912,\n",
       "     'execution_end': 15920946156238},\n",
       "    'cpu': 8}],\n",
       "  '5': [{'index': 5,\n",
       "    'trace': {'prev_trace': 15917183557962,\n",
       "     'execution_start': 15917185173756,\n",
       "     'execution_end': 15920946287604},\n",
       "    'cpu': 10}],\n",
       "  '6': [{'index': 6,\n",
       "    'trace': {'prev_trace': 15917183530188,\n",
       "     'execution_start': 15917185174558,\n",
       "     'execution_end': 15920946274558},\n",
       "    'cpu': 12}],\n",
       "  '7': [{'index': 7,\n",
       "    'trace': {'prev_trace': 15917183473572,\n",
       "     'execution_start': 15917185172874,\n",
       "     'execution_end': 15920946240594},\n",
       "    'cpu': 14}],\n",
       "  '8': [{'index': 8,\n",
       "    'trace': {'prev_trace': 15917183510282,\n",
       "     'execution_start': 15917185174918,\n",
       "     'execution_end': 15920946237888},\n",
       "    'cpu': 16}],\n",
       "  '9': [{'index': 9,\n",
       "    'trace': {'prev_trace': 15917183590338,\n",
       "     'execution_start': 15917185171366,\n",
       "     'execution_end': 15920946324544},\n",
       "    'cpu': 18}],\n",
       "  '10': [{'index': 10,\n",
       "    'trace': {'prev_trace': 15917184184152,\n",
       "     'execution_start': 15917185173528,\n",
       "     'execution_end': 15920946901372},\n",
       "    'cpu': 20}],\n",
       "  '11': [{'index': 11,\n",
       "    'trace': {'prev_trace': 15917183491442,\n",
       "     'execution_start': 15917185172946,\n",
       "     'execution_end': 15920946253738},\n",
       "    'cpu': 22}],\n",
       "  '12': [{'index': 12,\n",
       "    'trace': {'prev_trace': 15917183478252,\n",
       "     'execution_start': 15917185173836,\n",
       "     'execution_end': 15920946230902},\n",
       "    'cpu': 24}]}}"
      ]
     },
     "execution_count": 25,
     "metadata": {},
     "output_type": "execute_result"
    }
   ],
   "source": [
    "# want to convert json"
   ]
  }
 ],
 "metadata": {
  "kernelspec": {
   "display_name": ".venv",
   "language": "python",
   "name": "python3"
  },
  "language_info": {
   "codemirror_mode": {
    "name": "ipython",
    "version": 3
   },
   "file_extension": ".py",
   "mimetype": "text/x-python",
   "name": "python",
   "nbconvert_exporter": "python",
   "pygments_lexer": "ipython3",
   "version": "3.8.10"
  },
  "orig_nbformat": 4
 },
 "nbformat": 4,
 "nbformat_minor": 2
}
